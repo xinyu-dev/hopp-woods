# Hopp-Woods Hydrophilicity Prediction

## Adapted from publication:

*Prediction of protein antigenic determinants from amino
acid sequences*

by

THOMAS P. HOPP AND KENNETH R. WOODS

PNAS, 1981


## Mathematical principles

Given: 

$$ A=\Bigg\{\frac{\sum\limits_{i=n}^{n+\Delta-1} X_{i}}{\Delta} \Bigg| 0\le n \le N-\Delta\Bigg\} $$

Rank items in set $A$ from high to low

where:

$N$: length of the protein 

$n$: residue index position on the protein (starting from 0)

$\Delta$: length of the peptide region of interest

$X_{i}$: Hopp-Woods hydrophilicity value of amino acid $X$ 
         at index position $i$
