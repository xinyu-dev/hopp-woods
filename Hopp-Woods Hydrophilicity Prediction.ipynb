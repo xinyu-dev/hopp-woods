{
 "cells": [
  {
   "cell_type": "markdown",
   "metadata": {
    "collapsed": true,
    "pycharm": {
     "name": "#%% md\n"
    }
   },
   "source": [
    "# Hopp-Woods Hydrophilicity Prediction"
   ]
  },
  {
   "cell_type": "markdown",
   "source": [
    "## Adapted from publication:\n",
    "\n",
    "*Prediction of protein antigenic determinants from amino\n",
    "acid sequences*\n",
    "\n",
    "by\n",
    "\n",
    "THOMAS P. HOPP AND KENNETH R. WOODS\n",
    "\n",
    "PNAS, 1981"
   ],
   "metadata": {
    "collapsed": false
   }
  },
  {
   "cell_type": "markdown",
   "source": [
    "## Mathematical principles\n",
    "\n",
    "Given: \n",
    "\n",
    "$$ A=\\Bigg\\{\\frac{\\sum\\limits_{i=n}^{n+\\Delta-1} X_{i}}{\\Delta} \\Bigg| 0\\le n \\le N-\\Delta\\Bigg\\} $$\n",
    "\n",
    "Rank items in set $A$ from high to low\n",
    "\n",
    "where:\n",
    "\n",
    "$N$: length of the protein \n",
    "\n",
    "$n$: residue index position on the protein (starting from 0)\n",
    "\n",
    "$\\Delta$: length of the peptide region of interest\n",
    "\n",
    "$X_{i}$: Hopp-Woods hydrophilicity value of amino acid $X$ \n",
    "         at index position $i$\n"
   ],
   "metadata": {
    "collapsed": false,
    "pycharm": {
     "name": "#%% md\n",
     "is_executing": false
    }
   }
  },
  {
   "cell_type": "code",
   "source": [
    "import matplotlib.pyplot as plt\n",
    "\n",
    "# Hopp-Woods hydrophilicity scores\n",
    "hopp_scores={\n",
    "    \"R\": 3,\n",
    "    \"D\": 3,\n",
    "    \"E\": 3,\n",
    "    \"K\": 3,\n",
    "    \"S\":0.3,\n",
    "    \"N\":0.2,\n",
    "    \"Q\":0.2,\n",
    "    \"G\":0,\n",
    "    \"P\":0,\n",
    "    \"T\":-0.4,\n",
    "    \"A\":-0.5,\n",
    "    \"H\":-0.5,\n",
    "    \"C\":-1,\n",
    "    \"M\":-1.3,\n",
    "    \"V\":-1.5,\n",
    "    \"I\":-1.8,\n",
    "    \"L\":-1.8,\n",
    "    \"Y\":-2.3,\n",
    "    \"F\":-2.5,\n",
    "    \"W\":-3.4\n",
    "}\n",
    "\n",
    "\n",
    "def calc_hopp(seq, pep_length):\n",
    "    \"\"\"\n",
    "    \n",
    "    :param seq: Amino acid sequence, in string format. Must be 1-letter code \n",
    "    :param pep_length: The desired length of peptide (i.e. number of residues to average)\n",
    "    :return:    \n",
    "            A list of turples: [(val_1, peptide_1), (val_2, peptide_2)]. Values refers to the \n",
    "            Hopps averaged score for the peptide. The list of is in the same order as \n",
    "            protein sequence. E.g. (val_1, peptide_1) refers to the value of peptide_1, \n",
    "            which starts with 1st amino acid in teh protein seq. (val_2, peptide_2) refers \n",
    "            to the value of peptide_2, where the 1st amino acid of peptide 2 is the 2nd amino\n",
    "            acid in the protein seq. \n",
    "    \n",
    "    \"\"\"\n",
    "    \n",
    "    aa_lst=list(seq)\n",
    "    resi_hopp_lst=[hopp_scores[x] for x in aa_lst]\n",
    "    \n",
    "    pept_score_dict={} #a dictionary of {peptide_seq: averaged_hopp_score}\n",
    "    \n",
    "    for i in range (0, len(resi_hopp_lst)-pep_length+1): #range of n in the formula\n",
    "        pept_score=sum(resi_hopp_lst[i:i+pep_length])/pep_length  #averaged Hopp score\n",
    "        pept_seq=\"\".join(aa_lst[i:i+pep_length])\n",
    "        pept_score_dict[pept_seq]=pept_score\n",
    "        \n",
    "    #key:value pair was switched in the turple to allow sorting by hopp score\n",
    "    return [(v, k) for k, v in pept_score_dict.items()] \n",
    "    "
   ],
   "metadata": {
    "collapsed": false,
    "pycharm": {
     "name": "#%%\n",
     "is_executing": false
    }
   },
   "execution_count": 3,
   "outputs": []
  },
  {
   "cell_type": "code",
   "execution_count": 4,
   "outputs": [
    {
     "name": "stdout",
     "text": [
      "(Avg Hopp Score Sorted, Peptide)\n",
      "0.56 RCSSN\n",
      "0.54 CSQNE\n",
      "0.46 KGTNA\n",
      "0.40 NSVKG\n",
      "0.32 TNSVK\n",
      "0.30 EYFDS\n",
      "0.28 SQNEY\n",
      "0.28 NEYFD\n",
      "0.28 SVKGT\n",
      "0.26 VKGTN\n",
      "0.16 LRCSS\n",
      "0.14 QLRCS\n",
      "0.08 SSNTP\n",
      "0.08 PCQLR\n",
      "0.02 QRYCN\n",
      "0.02 SNTPP\n",
      "0.00 LTCQR\n",
      "-0.02 QCSQN\n",
      "-0.06 GQCSQ\n",
      "-0.10 TCQRY\n",
      "-0.12 RYCNA\n",
      "-0.12 CSSNT\n",
      "-0.12 CQLRC\n",
      "-0.16 DSLLH\n",
      "-0.20 AGQCS\n",
      "-0.22 CQRYC\n",
      "-0.22 SVTNS\n",
      "-0.28 QNEYF\n",
      "-0.38 NASVT\n",
      "-0.38 ASVTN\n",
      "-0.40 NTPPL\n",
      "-0.50 CNASV\n",
      "-0.52 TPPLT\n",
      "-0.56 FDSLL\n",
      "-0.58 VTNSV\n",
      "-0.60 PLTCQ\n",
      "-0.64 PPLTC\n",
      "-0.66 YFDSL\n",
      "-0.66 YCNAS\n",
      "-0.72 CIPCQ\n",
      "-0.76 HACIP\n",
      "-0.86 SLLHA\n",
      "-0.86 ACIPC\n",
      "-0.88 IPCQL\n",
      "-1.12 LLHAC\n",
      "-1.12 LHACI\n"
     ],
     "output_type": "stream"
    },
    {
     "data": {
      "text/plain": "[<matplotlib.lines.Line2D at 0x11a97c350>,\n <matplotlib.lines.Line2D at 0x11a97a450>]"
     },
     "metadata": {},
     "output_type": "execute_result",
     "execution_count": 4
    },
    {
     "data": {
      "text/plain": "<Figure size 432x288 with 1 Axes>",
      "image/png": "[encoded data removed]"
     },
     "metadata": {
      "needs_background": "light"
     },
     "output_type": "display_data"
    }
   ],
   "source": [
    "#provide protein seq   \n",
    "protein=\"AGQCSQNEYFDSLLHACIPCQLRCSSNTPPLTCQRYCNASVTNSVKGTNA\"\n",
    "\n",
    "#calculate averaged Hopp scores\n",
    "result=calc_hopp(protein, 5)\n",
    "\n",
    "\n",
    "#print averaged Hopp score result, from lowest to highest\n",
    "print(\"(Avg Hopp Score Sorted, Peptide)\")\n",
    "for i in sorted(result, reverse=True):\n",
    "    print (\"{:.2f}\".format(i[0]), \"{}\".format(i[1]))\n",
    "    \n",
    "    \n",
    "    \n",
    "#desired range to show on the x axis. \n",
    "# Recommend to change starting position to 1 instead of 0\n",
    "x=range(1, 24) \n",
    "\n",
    "#range of averaged hopp scores to show on y axis. \n",
    "y=[x[0] for x in result[0:23]]\n",
    "\n",
    "#plot chart\n",
    "plt.plot(x, y, \"r-\", x, y, \"ro\")\n",
    "\n",
    "\n"
   ],
   "metadata": {
    "collapsed": false,
    "pycharm": {
     "name": "#%%\n",
     "is_executing": false
    }
   }
  }
 ],
 "metadata": {
  "kernelspec": {
   "name": "pycharm-c142aad0",
   "language": "python",
   "display_name": "PyCharm (Jupyter Projects)"
  },
  "language_info": {
   "codemirror_mode": {
    "name": "ipython",
    "version": 2
   },
   "file_extension": ".py",
   "mimetype": "text/x-python",
   "name": "python",
   "nbconvert_exporter": "python",
   "pygments_lexer": "ipython2",
   "version": "2.7.6"
  },
  "pycharm": {
   "stem_cell": {
    "cell_type": "raw",
    "source": [],
    "metadata": {
     "collapsed": false
    }
   }
  }
 },
 "nbformat": 4,
 "nbformat_minor": 0
}